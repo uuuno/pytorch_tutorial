{
  "nbformat": 4,
  "nbformat_minor": 0,
  "metadata": {
    "colab": {
      "name": "1-1_WhatIsPytorch.ipynb",
      "provenance": [],
      "authorship_tag": "ABX9TyOX5zlPGWylauFabJD0atac",
      "include_colab_link": true
    },
    "kernelspec": {
      "name": "python3",
      "display_name": "Python 3"
    }
  },
  "cells": [
    {
      "cell_type": "markdown",
      "metadata": {
        "id": "view-in-github",
        "colab_type": "text"
      },
      "source": [
        "<a href=\"https://colab.research.google.com/github/uuuno/pytorch_tutorial/blob/master/1_1_WhatIsPytorch.ipynb\" target=\"_parent\"><img src=\"https://colab.research.google.com/assets/colab-badge.svg\" alt=\"Open In Colab\"/></a>"
      ]
    },
    {
      "cell_type": "markdown",
      "metadata": {
        "id": "BXow7cbhBgBx",
        "colab_type": "text"
      },
      "source": [
        ""
      ]
    },
    {
      "cell_type": "code",
      "metadata": {
        "id": "QENAXSfv-tca",
        "colab_type": "code",
        "colab": {}
      },
      "source": [
        "from __future__ import print_function\n",
        "import torch"
      ],
      "execution_count": 0,
      "outputs": []
    },
    {
      "cell_type": "markdown",
      "metadata": {
        "id": "kWjhE6n5Fre0",
        "colab_type": "text"
      },
      "source": [
        "## Tensors"
      ]
    },
    {
      "cell_type": "code",
      "metadata": {
        "id": "5CGEgFUHBPhj",
        "colab_type": "code",
        "colab": {
          "base_uri": "https://localhost:8080/",
          "height": 119
        },
        "outputId": "d3641372-4707-40c0-fe9c-8f14a90406ff"
      },
      "source": [
        "# 5*3のマトリックス（Uninitialized）\n",
        "x = torch.empty(5,3)\n",
        "print(x.shape, \"\\n\", x)"
      ],
      "execution_count": 6,
      "outputs": [
        {
          "output_type": "stream",
          "text": [
            "torch.Size([5, 3]) \n",
            " tensor([[3.8170e-36, 0.0000e+00, 2.1019e-44],\n",
            "        [0.0000e+00, 1.4013e-45, 0.0000e+00],\n",
            "        [4.5828e+30, 1.2121e+04, 7.1846e+22],\n",
            "        [9.2198e-39, 7.0374e+22, 1.8888e+31],\n",
            "        [1.4153e-43, 0.0000e+00, 0.0000e+00]])\n"
          ],
          "name": "stdout"
        }
      ]
    },
    {
      "cell_type": "code",
      "metadata": {
        "id": "Zd-oefIMB78u",
        "colab_type": "code",
        "colab": {
          "base_uri": "https://localhost:8080/",
          "height": 119
        },
        "outputId": "29744698-2f2f-46c3-fd7a-8cae3ff01ac7"
      },
      "source": [
        "# 5*3のマトリックス（Initialized）\n",
        "x = torch.rand(5,3)\n",
        "print(x.shape, \"\\n\", x)"
      ],
      "execution_count": 7,
      "outputs": [
        {
          "output_type": "stream",
          "text": [
            "torch.Size([5, 3]) \n",
            " tensor([[0.1721, 0.3646, 0.6238],\n",
            "        [0.3570, 0.6998, 0.9890],\n",
            "        [0.7933, 0.5434, 0.9175],\n",
            "        [0.0074, 0.5184, 0.6918],\n",
            "        [0.6375, 0.4152, 0.0831]])\n"
          ],
          "name": "stdout"
        }
      ]
    },
    {
      "cell_type": "code",
      "metadata": {
        "id": "795vI5nZCesh",
        "colab_type": "code",
        "colab": {
          "base_uri": "https://localhost:8080/",
          "height": 102
        },
        "outputId": "0a377b47-6012-4a05-c2ea-b16247d53af1"
      },
      "source": [
        "# Arrayを直接テンソルに変換\n",
        "arr = np.random.rand(5,3)\n",
        "x = torch.tensor(arr)\n",
        "print(x)"
      ],
      "execution_count": 16,
      "outputs": [
        {
          "output_type": "stream",
          "text": [
            "tensor([[0.2945, 0.4978, 0.4205],\n",
            "        [0.6320, 0.4850, 0.4197],\n",
            "        [0.3541, 0.4116, 0.0038],\n",
            "        [0.3376, 0.9482, 0.0673],\n",
            "        [0.0734, 0.8413, 0.6474]], dtype=torch.float64)\n"
          ],
          "name": "stdout"
        }
      ]
    },
    {
      "cell_type": "code",
      "metadata": {
        "id": "9kESv-TZDq0s",
        "colab_type": "code",
        "colab": {
          "base_uri": "https://localhost:8080/",
          "height": 204
        },
        "outputId": "d9bf3be0-f8e9-4ea4-9ebd-7e46d8666e27"
      },
      "source": [
        "# 既存のテンソルの形を利用する\n",
        "print(x.shape)\n",
        "\n",
        "x = x.new_ones(5, 3, dtype=torch.double)\n",
        "print(x)\n",
        "\n",
        "x = torch.randn_like(x)\n",
        "print(x)"
      ],
      "execution_count": 39,
      "outputs": [
        {
          "output_type": "stream",
          "text": [
            "torch.Size([5, 3])\n",
            "tensor([[1., 1., 1.],\n",
            "        [1., 1., 1.],\n",
            "        [1., 1., 1.],\n",
            "        [1., 1., 1.],\n",
            "        [1., 1., 1.]], dtype=torch.float64)\n",
            "tensor([[ 0.1496,  0.1295, -1.6348],\n",
            "        [ 0.5451, -0.5521,  2.6679],\n",
            "        [ 0.5834,  0.0338,  0.3902],\n",
            "        [-1.3855, -0.0426,  0.1882],\n",
            "        [ 0.3443, -0.2823,  0.1016]], dtype=torch.float64)\n"
          ],
          "name": "stdout"
        }
      ]
    },
    {
      "cell_type": "code",
      "metadata": {
        "id": "EmMejylcEbx6",
        "colab_type": "code",
        "colab": {
          "base_uri": "https://localhost:8080/",
          "height": 51
        },
        "outputId": "37850d78-2f69-4ed1-d91e-99dab9d4aa6e"
      },
      "source": [
        "# size確認\n",
        "print(x.size())\n",
        "print(x.shape)"
      ],
      "execution_count": 43,
      "outputs": [
        {
          "output_type": "stream",
          "text": [
            "torch.Size([5, 3])\n",
            "torch.Size([5, 3])\n"
          ],
          "name": "stdout"
        }
      ]
    },
    {
      "cell_type": "code",
      "metadata": {
        "id": "Fw4J159rEqvQ",
        "colab_type": "code",
        "colab": {}
      },
      "source": [
        ""
      ],
      "execution_count": 0,
      "outputs": []
    },
    {
      "cell_type": "markdown",
      "metadata": {
        "id": "hdClN2XeFqJg",
        "colab_type": "text"
      },
      "source": [
        "##Operations"
      ]
    },
    {
      "cell_type": "code",
      "metadata": {
        "id": "5ogK4xXMGZAb",
        "colab_type": "code",
        "colab": {}
      },
      "source": [
        "x = torch.rand(2, 2)\n",
        "y = torch.rand(2, 2)"
      ],
      "execution_count": 0,
      "outputs": []
    },
    {
      "cell_type": "code",
      "metadata": {
        "id": "NN-2bx25FxLq",
        "colab_type": "code",
        "colab": {
          "base_uri": "https://localhost:8080/",
          "height": 153
        },
        "outputId": "3602e46f-2474-44ef-c0dc-5626d2e85981"
      },
      "source": [
        "# 足し算(4つの方法)\n",
        "print(x + y)  # １\n",
        "\n",
        "print(torch.add(x, y))  # 2\n",
        "\n",
        "result = torch.empty(2, 2)  # 3\n",
        "torch.add(x, y, out=result)\n",
        "print(result)\n",
        "\n",
        "y.add_(x)  # 4\n",
        "print(y)"
      ],
      "execution_count": 50,
      "outputs": [
        {
          "output_type": "stream",
          "text": [
            "tensor([[0.5293, 0.3494],\n",
            "        [1.3372, 0.9727]])\n",
            "tensor([[0.5293, 0.3494],\n",
            "        [1.3372, 0.9727]])\n",
            "tensor([[0.5293, 0.3494],\n",
            "        [1.3372, 0.9727]])\n",
            "tensor([[0.5293, 0.3494],\n",
            "        [1.3372, 0.9727]])\n"
          ],
          "name": "stdout"
        }
      ]
    },
    {
      "cell_type": "code",
      "metadata": {
        "id": "7VrIzzxSGCnU",
        "colab_type": "code",
        "colab": {}
      },
      "source": [
        ""
      ],
      "execution_count": 0,
      "outputs": []
    },
    {
      "cell_type": "code",
      "metadata": {
        "id": "ShVj6JyMGQN4",
        "colab_type": "code",
        "colab": {
          "base_uri": "https://localhost:8080/",
          "height": 68
        },
        "outputId": "42a352b2-5e73-4900-9006-a2221047ef89"
      },
      "source": [
        "# Indexing (numpyと同じ)\n",
        "print(x)\n",
        "print(x[:, 1])"
      ],
      "execution_count": 59,
      "outputs": [
        {
          "output_type": "stream",
          "text": [
            "tensor([[0.3183, 0.2887],\n",
            "        [0.8186, 0.1502]])\n",
            "tensor([0.2887, 0.1502])\n"
          ],
          "name": "stdout"
        }
      ]
    },
    {
      "cell_type": "code",
      "metadata": {
        "id": "FzPbERZNHVY2",
        "colab_type": "code",
        "colab": {
          "base_uri": "https://localhost:8080/",
          "height": 34
        },
        "outputId": "5a6c53cb-2914-48fc-e0c2-6556db31d421"
      },
      "source": [
        "# Resizing\n",
        "x = torch.rand(4, 4)\n",
        "y = x.view(1, 16)\n",
        "z = x.view(-1, 8)\n",
        "print(x.size(), y.size(), z.size())"
      ],
      "execution_count": 63,
      "outputs": [
        {
          "output_type": "stream",
          "text": [
            "torch.Size([4, 4]) torch.Size([1, 16]) torch.Size([2, 8])\n"
          ],
          "name": "stdout"
        }
      ]
    },
    {
      "cell_type": "code",
      "metadata": {
        "id": "Vp701IRLH9ED",
        "colab_type": "code",
        "colab": {
          "base_uri": "https://localhost:8080/",
          "height": 51
        },
        "outputId": "1cd7f5d7-9484-4940-f4ec-4dc623a9dd54"
      },
      "source": [
        "# One-Element tensorの取り出し\n",
        "x = torch.randn(1)\n",
        "print(x)\n",
        "print(x.item())"
      ],
      "execution_count": 68,
      "outputs": [
        {
          "output_type": "stream",
          "text": [
            "tensor([-1.5182])\n",
            "-1.5182119607925415\n"
          ],
          "name": "stdout"
        }
      ]
    },
    {
      "cell_type": "code",
      "metadata": {
        "id": "39dNNBWoH9sH",
        "colab_type": "code",
        "colab": {}
      },
      "source": [
        ""
      ],
      "execution_count": 0,
      "outputs": []
    },
    {
      "cell_type": "markdown",
      "metadata": {
        "id": "NDVKb9CfJDwR",
        "colab_type": "text"
      },
      "source": [
        "## Numpy Bridge"
      ]
    },
    {
      "cell_type": "code",
      "metadata": {
        "id": "7bw1xwTGI72H",
        "colab_type": "code",
        "colab": {
          "base_uri": "https://localhost:8080/",
          "height": 119
        },
        "outputId": "b0323efc-19fd-4e7a-a068-5cad2d351585"
      },
      "source": [
        "# torch tensor --> Numpy array\n",
        "a = torch.ones(5)\n",
        "print(a)\n",
        "\n",
        "b = a.numpy() # .numpyにすると値が共有される（どちらも更新される）\n",
        "print(b)\n",
        "\n",
        "c = np.array(a) # 普通のパースではただのcopy\n",
        "print(c)\n",
        "\n",
        "\n",
        "a.add_(1)\n",
        "print(a)\n",
        "print(b)\n",
        "print(c)"
      ],
      "execution_count": 89,
      "outputs": [
        {
          "output_type": "stream",
          "text": [
            "tensor([1., 1., 1., 1., 1.])\n",
            "[1. 1. 1. 1. 1.]\n",
            "[1. 1. 1. 1. 1.]\n",
            "tensor([2., 2., 2., 2., 2.])\n",
            "[2. 2. 2. 2. 2.]\n",
            "[1. 1. 1. 1. 1.]\n"
          ],
          "name": "stdout"
        }
      ]
    },
    {
      "cell_type": "code",
      "metadata": {
        "id": "Kezm5CfCJaAc",
        "colab_type": "code",
        "colab": {
          "base_uri": "https://localhost:8080/",
          "height": 85
        },
        "outputId": "b0e7d02a-7d8e-4fdf-fc42-aefbc9b580ca"
      },
      "source": [
        "# numpy array --> torch tensor\n",
        "a = np.ones(5)\n",
        "print(a)\n",
        "\n",
        "b = torch.from_numpy(a)\n",
        "print(b)\n",
        "\n",
        "a += 1\n",
        "print(a)\n",
        "print(b)"
      ],
      "execution_count": 98,
      "outputs": [
        {
          "output_type": "stream",
          "text": [
            "[1. 1. 1. 1. 1.]\n",
            "tensor([1., 1., 1., 1., 1.], dtype=torch.float64)\n",
            "[2. 2. 2. 2. 2.]\n",
            "tensor([2., 2., 2., 2., 2.], dtype=torch.float64)\n"
          ],
          "name": "stdout"
        }
      ]
    },
    {
      "cell_type": "markdown",
      "metadata": {
        "id": "C63yUvh_LNNy",
        "colab_type": "text"
      },
      "source": [
        "## CUDA Tensors"
      ]
    },
    {
      "cell_type": "code",
      "metadata": {
        "id": "JrvJ8_27KJCA",
        "colab_type": "code",
        "colab": {}
      },
      "source": [
        "# let us run this cell only if CUDA is available\n",
        "# We will use ``torch.device`` objects to move tensors in and out of GPU\n",
        "if torch.cuda.is_available():\n",
        "    device = torch.device(\"cuda\")          # a CUDA device object\n",
        "    y = torch.ones_like(x, device=device)  # directly create a tensor on GPU\n",
        "    x = x.to(device)                       # or just use strings ``.to(\"cuda\")``\n",
        "    z = x + y\n",
        "    print(z)\n",
        "    print(z.to(\"cpu\", torch.double))       # ``.to`` can also change dtype together!"
      ],
      "execution_count": 0,
      "outputs": []
    },
    {
      "cell_type": "code",
      "metadata": {
        "id": "nfHCgFx3Lkg5",
        "colab_type": "code",
        "colab": {
          "base_uri": "https://localhost:8080/",
          "height": 34
        },
        "outputId": "ed112308-ae33-453a-f796-ee431667b3e0"
      },
      "source": [
        "torch.cuda.is_available()"
      ],
      "execution_count": 100,
      "outputs": [
        {
          "output_type": "execute_result",
          "data": {
            "text/plain": [
              "False"
            ]
          },
          "metadata": {
            "tags": []
          },
          "execution_count": 100
        }
      ]
    },
    {
      "cell_type": "code",
      "metadata": {
        "id": "XSxr2fupLoml",
        "colab_type": "code",
        "colab": {}
      },
      "source": [
        ""
      ],
      "execution_count": 0,
      "outputs": []
    }
  ]
}